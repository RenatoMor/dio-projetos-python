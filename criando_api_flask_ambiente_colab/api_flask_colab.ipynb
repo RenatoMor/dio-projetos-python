{
 "cells": [
  {
   "cell_type": "code",
   "execution_count": null,
   "metadata": {},
   "outputs": [],
   "source": [
    "!pip install fastapi nest-asyncio pyngrok uvicorn"
   ]
  },
  {
   "cell_type": "code",
   "execution_count": null,
   "metadata": {},
   "outputs": [],
   "source": [
    "!pip install flask_ngrok"
   ]
  },
  {
   "cell_type": "code",
   "execution_count": null,
   "metadata": {},
   "outputs": [],
   "source": [
    "!pip install fastapi"
   ]
  },
  {
   "cell_type": "markdown",
   "metadata": {},
   "source": [
    "# Importing Libraries---------------------------------------------------------------"
   ]
  },
  {
   "cell_type": "code",
   "execution_count": null,
   "metadata": {},
   "outputs": [],
   "source": [
    "import pandas as pd\n",
    "import json\n",
    "from fastapi import FastAPI\n",
    "import nest_asyncio\n",
    "from pyngrok import ngrok\n",
    "import uvicorn"
   ]
  },
  {
   "cell_type": "markdown",
   "metadata": {},
   "source": [
    "# Creating FastAPI instance---------------------------------------------------------"
   ]
  },
  {
   "cell_type": "code",
   "execution_count": null,
   "metadata": {},
   "outputs": [],
   "source": [
    "base_dados_fapi = pd.read_excel('/content/content/base_dados_flaskApi.xlsx')\n",
    "print(base_dados_fapi)"
   ]
  },
  {
   "cell_type": "markdown",
   "metadata": {},
   "source": [
    "# Sample Output---------------------------------------------------------------------\n",
    "ANALISTA SEXO  FILHOS  IDADE  SALÁRIO NÍVEL UNIDADE\n",
    "0        Paulo    M       4     48     2678    N2      SP\n",
    "1        Pedro    M       3     26     2540    N2      SP\n",
    "2         Alex    M       4     44     2353    N1      SP\n",
    "3          Ana    F       4     47     2622    N2      SP\n",
    "4      Vanessa    F       0     27     2087    N1      SP\n",
    "5       Suzana    F       4     42     2364    N1      SP\n",
    "6       Renata    F       3     34     2234    N1      SP\n",
    "7      Mathias    M       0     46     2378    N1      SP\n",
    "8        Vitor    M       4     26     2453    N1      SP\n",
    "9       Manoel    M       2     26     2536    N2      SP\n",
    "10     Leandro    M       2     34     2590    N2      SP"
   ]
  },
  {
   "cell_type": "markdown",
   "metadata": {},
   "source": [
    "# Creating json file---------------------------------------------------------------"
   ]
  },
  {
   "cell_type": "code",
   "execution_count": null,
   "metadata": {},
   "outputs": [],
   "source": [
    "base_dados_fapi_json = base_dados_fapi.to_json(orient='records')\n",
    "print(base_dados_fapi_json)"
   ]
  },
  {
   "cell_type": "markdown",
   "metadata": {},
   "source": [
    "# Sample Output---------------------------------------------------------------------\n",
    "[{\"ANALISTA\":\"Paulo\",\"SEXO\":\"M\",\"FILHOS\":4,\"IDADE\":48,\"SAL\\u00c1RIO\":2678,\"N\\u00cdVEL\":\"N2\",\"UNIDADE\":\"SP\"},{\"ANALISTA\":\"Pedro\",\"SEXO\":\"M\",\"FILHOS\":3,\"IDADE\":26,\"SAL\\u00c1RIO\":2540,\"N\\u00cdVEL\":\"N2\",\"UNIDADE\":\"SP\"},{\"ANALISTA\":\"Alex\",\"SEXO\":\"M\",\"FILHOS\":4,\"IDADE\":44,\"SAL\\u00c1RIO\":2353,\"N\\u00cdVEL\":\"N1\",\"UNIDADE\":\"SP\"},{\"ANALISTA\":\"Ana\",\"SEXO\":\"F\",\"FILHOS\":4,\"IDADE\":47,\"SAL\\u00c1RIO\":2622,\"N\\u00cdVEL\":\"N2\",\"UNIDADE\":\"SP\"},{\"ANALISTA\":\"Vanessa\",\"SEXO\":\"F\",\"FILHOS\":0,\"IDADE\":27,\"SAL\\u00c1RIO\":2087,\"N\\u00cdVEL\":\"N1\",\"UNIDADE\":\"SP\"},{\"ANALISTA\":\"Suzana\",\"SEXO\":\"F\",\"FILHOS\":4,\"IDADE\":42,\"SAL\\u00c1RIO\":2364,\"N\\u00cdVEL\":\"N1\",\"UNIDADE\":\"SP\"},{\"ANALISTA\":\"Renata\",\"SEXO\":\"F\",\"FILHOS\":3,\"IDADE\":34,\"SAL\\u00c1RIO\":2234,\"N\\u00cdVEL\":\"N1\",\"UNIDADE\":\"SP\"},{\"ANALISTA\":\"Mathias\",\"SEXO\":\"M\",\"FILHOS\":0,\"IDADE\":46,\"SAL\\u00c1RIO\":2378,\"N\\u00cdVEL\":\"N1\",\"UNIDADE\":\"SP\"},{\"ANALISTA\":\"Vitor\",\"SEXO\":\"M\",\"FILHOS\":4,\"IDADE\":26,\"SAL\\u00c1RIO\":2453,\"N\\u00cdVEL\":\"N1\",\"UNIDADE\":\"SP\"},{\"ANALISTA\":\"Manoel\",\"SEXO\":\"M\",\"FILHOS\":2,\"IDADE\":26,\"SAL\\u00c1RIO\":2536,\"N\\u00cdVEL\":\"N2\",\"UNIDADE\":\"SP\"},{\"ANALISTA\":\"Leandro\",\"SEXO\":\"M\",\"FILHOS\":2,\"IDADE\":34,\"SAL\\u00c1RIO\":2590,\"N\\u00cdVEL\":\"N2\",\"UNIDADE\":\"SP\"}]"
   ]
  },
  {
   "cell_type": "markdown",
   "metadata": {},
   "source": [
    "# Creating connection with ngrok----------------------------------------------------"
   ]
  },
  {
   "cell_type": "code",
   "execution_count": null,
   "metadata": {},
   "outputs": [],
   "source": [
    "app = FastAPI()\n",
    "@app.get('/index')\n",
    "async def home():\n",
    "  return base_dados_fapi_json\n",
    "\n",
    "ngrok_tunnel = ngrok.connect(8000)\n",
    "print(f\"Public Url:{ngrok_tunnel.public_url}/index\")\n",
    "nest_asyncio.apply()\n",
    "uvicorn.run(app,port=8000)"
   ]
  },
  {
   "cell_type": "markdown",
   "metadata": {},
   "source": [
    "# Sample Output---------------------------------------------------------------------\n",
    "WARNING:pyngrok.process.ngrok:t=2023-07-31T20:02:25+0000 lvl=warn msg=\"ngrok config file found at legacy location, move to XDG location\" xdg_path=/root/.config/ngrok/ngrok.yml legacy_path=/root/.ngrok2/ngrok.yml\n",
    "Public Url:https://4b79-34-74-12-13.ngrok.io/index\n",
    "INFO:     Started server process [1179]\n",
    "INFO:     Waiting for application startup.\n",
    "INFO:     Application startup complete.\n",
    "INFO:     Uvicorn running on http://127.0.0.1:8000 (Press CTRL+C to quit)\n",
    "INFO:     2804:14c:b6:b9eb:f907:d29d:4fb6:5927:0 - \"GET /index HTTP/1.1\" 200 OK\n",
    "INFO:     2804:14c:b6:b9eb:f907:d29d:4fb6:5927:0 - \"GET /favicon.ico HTTP/1.1\" 404 Not Found\n",
    "INFO:     201.64.116.199:0 - \"GET /index HTTP/1.1\" 200 OK"
   ]
  }
 ],
 "metadata": {
  "language_info": {
   "name": "python"
  },
  "orig_nbformat": 4
 },
 "nbformat": 4,
 "nbformat_minor": 2
}
